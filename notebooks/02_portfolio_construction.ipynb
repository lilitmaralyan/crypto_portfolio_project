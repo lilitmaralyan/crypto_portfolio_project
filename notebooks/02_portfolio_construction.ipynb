{
 "cells": [
  {
   "cell_type": "code",
   "execution_count": 3,
   "id": "bf69fce1",
   "metadata": {},
   "outputs": [
    {
     "data": {
      "text/html": [
       "<div>\n",
       "<style scoped>\n",
       "    .dataframe tbody tr th:only-of-type {\n",
       "        vertical-align: middle;\n",
       "    }\n",
       "\n",
       "    .dataframe tbody tr th {\n",
       "        vertical-align: top;\n",
       "    }\n",
       "\n",
       "    .dataframe thead th {\n",
       "        text-align: right;\n",
       "    }\n",
       "</style>\n",
       "<table border=\"1\" class=\"dataframe\">\n",
       "  <thead>\n",
       "    <tr style=\"text-align: right;\">\n",
       "      <th></th>\n",
       "      <th>ETHUSDT</th>\n",
       "      <th>BTCUSDT</th>\n",
       "      <th>BCHUSDT</th>\n",
       "    </tr>\n",
       "    <tr>\n",
       "      <th>close_time</th>\n",
       "      <th></th>\n",
       "      <th></th>\n",
       "      <th></th>\n",
       "    </tr>\n",
       "  </thead>\n",
       "  <tbody>\n",
       "    <tr>\n",
       "      <th>2020-01-02</th>\n",
       "      <td>-0.026872</td>\n",
       "      <td>-0.032724</td>\n",
       "      <td>-0.042604</td>\n",
       "    </tr>\n",
       "    <tr>\n",
       "      <th>2020-01-03</th>\n",
       "      <td>0.056487</td>\n",
       "      <td>0.054536</td>\n",
       "      <td>0.135799</td>\n",
       "    </tr>\n",
       "    <tr>\n",
       "      <th>2020-01-04</th>\n",
       "      <td>-0.001117</td>\n",
       "      <td>0.001225</td>\n",
       "      <td>0.009266</td>\n",
       "    </tr>\n",
       "    <tr>\n",
       "      <th>2020-01-05</th>\n",
       "      <td>0.008871</td>\n",
       "      <td>0.000497</td>\n",
       "      <td>-0.007532</td>\n",
       "    </tr>\n",
       "    <tr>\n",
       "      <th>2020-01-06</th>\n",
       "      <td>0.064361</td>\n",
       "      <td>0.054802</td>\n",
       "      <td>0.096192</td>\n",
       "    </tr>\n",
       "  </tbody>\n",
       "</table>\n",
       "</div>"
      ],
      "text/plain": [
       "             ETHUSDT   BTCUSDT   BCHUSDT\n",
       "close_time                              \n",
       "2020-01-02 -0.026872 -0.032724 -0.042604\n",
       "2020-01-03  0.056487  0.054536  0.135799\n",
       "2020-01-04 -0.001117  0.001225  0.009266\n",
       "2020-01-05  0.008871  0.000497 -0.007532\n",
       "2020-01-06  0.064361  0.054802  0.096192"
      ]
     },
     "execution_count": 3,
     "metadata": {},
     "output_type": "execute_result"
    }
   ],
   "source": [
    "import pandas as pd\n",
    "from glob import glob\n",
    "from os import path\n",
    "import sys\n",
    "\n",
    "sys.path.append(path.abspath(\"..\"))\n",
    "\n",
    "from src.portfolio_tools import compute_equal_weights, compute_portfolio_returns\n",
    "\n",
    "# Path to processed monthly returns\n",
    "files = glob(\"../data/processed/*.parquet\")\n",
    "\n",
    "# Load all monthly returns into a dictionary\n",
    "monthly_returns = {\n",
    "    path.splitext(path.basename(f))[0].replace(\"monthly_returns_\", \"\"): pd.read_parquet(f)\n",
    "    for f in files\n",
    "}\n",
    "\n",
    "# Example: check January 2020\n",
    "monthly_returns['2020-01'].head()"
   ]
  },
  {
   "cell_type": "code",
   "execution_count": 2,
   "id": "9bc857db",
   "metadata": {},
   "outputs": [
    {
     "data": {
      "text/plain": [
       "ETHUSDT    0.333333\n",
       "BTCUSDT    0.333333\n",
       "BCHUSDT    0.333333\n",
       "dtype: float64"
      ]
     },
     "execution_count": 2,
     "metadata": {},
     "output_type": "execute_result"
    }
   ],
   "source": [
    "monthly_equal_weights = compute_equal_weights(monthly_returns)\n",
    "monthly_equal_weights['2020-01']"
   ]
  },
  {
   "cell_type": "code",
   "execution_count": 6,
   "id": "84caa59f",
   "metadata": {},
   "outputs": [
    {
     "data": {
      "text/plain": [
       "close_time\n",
       "2020-01-02   -0.034067\n",
       "2020-01-03    0.082274\n",
       "2020-01-04    0.003125\n",
       "2020-01-05    0.000612\n",
       "2020-01-06    0.071785\n",
       "                ...   \n",
       "2025-04-26    0.030061\n",
       "2025-04-27   -0.043630\n",
       "2025-04-28    0.035095\n",
       "2025-04-29   -0.024797\n",
       "2025-04-30    0.030764\n",
       "Length: 1946, dtype: float64"
      ]
     },
     "execution_count": 6,
     "metadata": {},
     "output_type": "execute_result"
    }
   ],
   "source": [
    "# Compute daily portfolio returns\n",
    "daily_portfolio_returns = compute_portfolio_returns(monthly_returns, monthly_equal_weights)\n",
    "daily_portfolio_returns"
   ]
  },
  {
   "cell_type": "code",
   "execution_count": null,
   "id": "df86cf5e",
   "metadata": {},
   "outputs": [],
   "source": []
  },
  {
   "cell_type": "code",
   "execution_count": null,
   "id": "a05fb812",
   "metadata": {},
   "outputs": [],
   "source": []
  }
 ],
 "metadata": {
  "kernelspec": {
   "display_name": "venv",
   "language": "python",
   "name": "python3"
  },
  "language_info": {
   "codemirror_mode": {
    "name": "ipython",
    "version": 3
   },
   "file_extension": ".py",
   "mimetype": "text/x-python",
   "name": "python",
   "nbconvert_exporter": "python",
   "pygments_lexer": "ipython3",
   "version": "3.13.2"
  }
 },
 "nbformat": 4,
 "nbformat_minor": 5
}
