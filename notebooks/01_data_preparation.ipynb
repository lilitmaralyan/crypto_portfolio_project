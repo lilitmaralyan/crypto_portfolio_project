{
 "cells": [
  {
   "cell_type": "code",
   "execution_count": 30,
   "id": "f06fcbe2-76dc-4e58-9104-8b2cb19c7c49",
   "metadata": {},
   "outputs": [],
   "source": [
    "import pandas as pd\n",
    "from glob import glob\n",
    "from os import path\n",
    "import sys"
   ]
  },
  {
   "cell_type": "code",
   "execution_count": 31,
   "id": "fc61a9f1-abfe-48e3-aac5-996f1596e2aa",
   "metadata": {
    "scrolled": true
   },
   "outputs": [],
   "source": [
    "# files = glob('../data/raw_data/*USDT*.parquet')\n",
    "# files"
   ]
  },
  {
   "cell_type": "code",
   "execution_count": 32,
   "id": "085825c7-6dd8-46ac-868c-9394723fa786",
   "metadata": {
    "scrolled": true
   },
   "outputs": [],
   "source": [
    "# merged_df = pd.concat(\n",
    "#     [\n",
    "#         pd.read_parquet(file)[['close_time', 'close']]\n",
    "#           .assign(close_time=lambda x: pd.to_datetime(x['close_time'], unit='ms'))\n",
    "#           .rename(columns={'close': path.splitext(path.basename(file))[0]})\n",
    "#           .set_index('close_time')\n",
    "#           .sort_index()\n",
    "#         for file in files\n",
    "#     ],\n",
    "#     axis=1,\n",
    "#     join='outer'\n",
    "# )\n",
    "\n",
    "# merged_df"
   ]
  },
  {
   "cell_type": "code",
   "execution_count": 35,
   "id": "68eda9e2-cbd9-47c5-998a-9b81d57b1987",
   "metadata": {},
   "outputs": [],
   "source": [
    "sys.path.append(path.abspath(\"..\"))"
   ]
  },
  {
   "cell_type": "code",
   "execution_count": 36,
   "id": "132b2e64-bea5-4873-aa42-0ddef2488cf4",
   "metadata": {
    "scrolled": true
   },
   "outputs": [],
   "source": [
    "from src.data_loader import load_and_prepare_prices"
   ]
  },
  {
   "cell_type": "code",
   "execution_count": null,
   "id": "31f8217b-78f1-40a7-8af3-33be3791df7c",
   "metadata": {},
   "outputs": [],
   "source": []
  },
  {
   "cell_type": "code",
   "execution_count": null,
   "id": "9d73729b-1201-431e-8365-8bcc4a0c43d6",
   "metadata": {},
   "outputs": [],
   "source": []
  }
 ],
 "metadata": {
  "kernelspec": {
   "display_name": "Python 3 (ipykernel)",
   "language": "python",
   "name": "python3"
  },
  "language_info": {
   "codemirror_mode": {
    "name": "ipython",
    "version": 3
   },
   "file_extension": ".py",
   "mimetype": "text/x-python",
   "name": "python",
   "nbconvert_exporter": "python",
   "pygments_lexer": "ipython3",
   "version": "3.13.2"
  }
 },
 "nbformat": 4,
 "nbformat_minor": 5
}
